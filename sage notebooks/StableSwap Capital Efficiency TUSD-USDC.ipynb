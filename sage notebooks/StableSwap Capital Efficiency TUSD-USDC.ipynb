{
 "cells": [
  {
   "cell_type": "markdown",
   "id": "fd441e91",
   "metadata": {},
   "source": [
    "# Analysis of StableSwap Capital Efficiency, TUSD-USDC pair on Polygon, Curve.fi"
   ]
  },
  {
   "cell_type": "markdown",
   "id": "bf153cf2",
   "metadata": {},
   "source": [
    "We compute capital efficiency of the TUSD-USDC pair on Curve.fi (Polygon) compared to a concentrated liquidity pool. We use `[0.98, 1/0.98]` as the price range for concentrated liquidity pool. Note that the trading curve shape of the hypothetical concentrated liquidity pool does not matter for this particular calculation, though one would want a similar shape to StableSwap for other reasons.\n",
    "\n",
    "On Curve.fi on Polygon, TUSD-USDC is traded in a \"Meta Pool\" with 4 assets, which is really a TUSD-3CRV pool (3CRV being LP shares of the DAI-USDC-USDT 3pool) that allows transparent trading through any of the asset pairs.\n",
    "\n",
    "The first asset (TUSD) is special: This construction is *not* equivalent to a 4-asset StableSwap pool!\n",
    "\n",
    "Note that we don't take any implementation details of Curve.fi into account, but instead model a system that represents the StableSwap curves exactly. We also ignore fees (which are irrelevant for our purposes here)."
   ]
  },
  {
   "cell_type": "markdown",
   "id": "6f95221d",
   "metadata": {},
   "source": [
    "# Early Setup\n",
    "\n",
    "Some code that has to run first"
   ]
  },
  {
   "cell_type": "code",
   "execution_count": 1,
   "id": "45ae03d9",
   "metadata": {},
   "outputs": [],
   "source": [
    "# Increase precision (from 53). Has to be the first thing in the file.\n",
    "# (turns out to be unimportant for the result but we leave it in just to be sure)\n",
    "RealNumber = RealField(300, sci_not=True)"
   ]
  },
  {
   "cell_type": "code",
   "execution_count": 2,
   "id": "247a483b",
   "metadata": {},
   "outputs": [],
   "source": [
    "load('stableswap.sage')"
   ]
  },
  {
   "cell_type": "code",
   "execution_count": 3,
   "id": "8725f00d",
   "metadata": {},
   "outputs": [],
   "source": [
    "# Output helper:\n",
    "def alln(*args):\n",
    "    \"\"\"x.n() or map over them.\"\"\"\n",
    "    if len(args) == 1:\n",
    "        (x,) = args\n",
    "        if isinstance(x, (list, tuple, set)):\n",
    "            return type(x)(map(alln, x))\n",
    "        return x.n()\n",
    "    return tuple(alln(a) for a in args)"
   ]
  },
  {
   "cell_type": "code",
   "execution_count": 4,
   "id": "476c8830",
   "metadata": {},
   "outputs": [],
   "source": [
    "chain = 'polygon'  # ethereum or polygon. Sets parameters below."
   ]
  },
  {
   "cell_type": "markdown",
   "id": "eb1bedfa",
   "metadata": {},
   "source": [
    "We now first model the \"Base\" 3 pool. We then connect the two models."
   ]
  },
  {
   "cell_type": "markdown",
   "id": "4a226552",
   "metadata": {},
   "source": [
    "# 3pool (\"Base Pool\") model"
   ]
  },
  {
   "cell_type": "markdown",
   "id": "0998710c",
   "metadata": {},
   "source": [
    "On Polygon:\n",
    "- https://curve.fi/#/polygon/pools/aave/deposit\n",
    "- LP token contract: https://polygonscan.com/address/0xE7a24EF0C5e95Ffb0f6684b813A78F2a3AD7D171#readContract\n",
    "\n",
    "Note that the 3-pool on Polygon is an Aave pool that generates additional interest. This shouldn't matter for our computation and we don't model it.\n",
    "\n",
    "On Ethereum, https://curve.fi/#/ethereum/pools/3pool/swap\n",
    "\n",
    "The data snapshot is from 2022-11-28."
   ]
  },
  {
   "cell_type": "code",
   "execution_count": 5,
   "id": "ef1f48c8",
   "metadata": {},
   "outputs": [],
   "source": [
    "init_stableswap(3)"
   ]
  },
  {
   "cell_type": "code",
   "execution_count": 6,
   "id": "60acef29",
   "metadata": {},
   "outputs": [],
   "source": [
    "asset_labels_base = \"DAI USDC USDT\".split()\n",
    "\n",
    "if chain == 'polygon':\n",
    "    balances_base = [\n",
    "        6259135935040567460324362/1e18,\n",
    "        7412560976472/1e6,\n",
    "        17433748160878/1e6,\n",
    "    ]\n",
    "\n",
    "    a_base_val = 2000\n",
    "\n",
    "    # virtual price = invariant (d) / token supply.\n",
    "    # Very similar to L/S for the \"old\" way of choosing CLP invariants in the Gyro pools.\n",
    "    # (though we add a factor n, they use 1 upon initialization I think)\n",
    "    # We can calculate this ourselves; only used for comparison\n",
    "    virtual_price_base_pool = 1064420385548209601 / 1e18  # Pulled from contract\n",
    "\n",
    "    # Pulled from LP share token contract.\n",
    "    total_supply_base = 29221054903276675268850332 / 1e18\n",
    "    \n",
    "elif chain == 'ethereum':\n",
    "    # Data hasn't been updated, may be slightly outdated\n",
    "    balances_base = [\n",
    "        139134531672192484052728700/1e18,\n",
    "        130607117532366/1e6,\n",
    "        399741984688542/1e6\n",
    "    ]\n",
    "    \n",
    "    a_base_val = 2000\n",
    "    \n",
    "    virtual_price_base = 1022751574267137920/1e18\n",
    "    \n",
    "    total_supply_base = 654532899327680624513413100/1e18\n",
    "    \n",
    "else:\n",
    "    raise ValueError(\"Unknown chain\")"
   ]
  },
  {
   "cell_type": "code",
   "execution_count": 7,
   "id": "8752f6e4",
   "metadata": {},
   "outputs": [
    {
     "data": {
      "text/plain": [
       "[6.25913593504057e6, 7.41256097647200e6, 1.74337481608780e7]"
      ]
     },
     "execution_count": 7,
     "metadata": {},
     "output_type": "execute_result"
    }
   ],
   "source": [
    "# Unscaled values\n",
    "alln(balances_base)"
   ]
  },
  {
   "cell_type": "code",
   "execution_count": 8,
   "id": "ae93bd6f",
   "metadata": {},
   "outputs": [
    {
     "data": {
      "text/plain": [
       "3.11052273107122e7"
      ]
     },
     "execution_count": 8,
     "metadata": {},
     "output_type": "execute_result"
    }
   ],
   "source": [
    "d_base_sln = RealNumber(stableswap_get_d(balances_base, a_base_val))\n",
    "d_base_sln.n()"
   ]
  },
  {
   "cell_type": "code",
   "execution_count": 9,
   "id": "c63b4535",
   "metadata": {},
   "outputs": [
    {
     "data": {
      "text/plain": [
       "(1.06442038554821, 1.06447995849815)"
      ]
     },
     "execution_count": 9,
     "metadata": {},
     "output_type": "execute_result"
    }
   ],
   "source": [
    "# Sanity check: These should match\n",
    "virtual_price_base_calcd = d_base_sln / total_supply_base\n",
    "alln(virtual_price_base_pool, virtual_price_base_calcd)"
   ]
  },
  {
   "cell_type": "markdown",
   "id": "3f1cef7e",
   "metadata": {},
   "source": [
    "^^ They match but only *approximately*. This is likely due to implementation details on the Curve side. To keep things consistent with the virtual price, I re-calculate the virtual price based on these."
   ]
  },
  {
   "cell_type": "code",
   "execution_count": 10,
   "id": "2d5ee1fa",
   "metadata": {},
   "outputs": [],
   "source": [
    "virtual_price_base = virtual_price_base_calcd"
   ]
  },
  {
   "cell_type": "markdown",
   "id": "9f3deacb",
   "metadata": {},
   "source": [
    "Now lets construct and solve the marginal trading equation."
   ]
  },
  {
   "cell_type": "code",
   "execution_count": 11,
   "id": "1e493076",
   "metadata": {},
   "outputs": [],
   "source": [
    "# Replace everything that won't change and rename variables to avoid overlap\n",
    "# with the meta pool.\n",
    "# (scoping is kinda nonexistent in Sage)\n",
    "y = var('y')\n",
    "db = var('db')\n",
    "\n",
    "eq_base_db_y = eq_stableswap.subs(\n",
    "    d==db,\n",
    "    t[0]==balances_base[0],\n",
    "    t[1]==y,\n",
    "    t[2]==balances_base[2],\n",
    "    a==a_base_val\n",
    ")"
   ]
  },
  {
   "cell_type": "code",
   "execution_count": 12,
   "id": "e40a401c",
   "metadata": {},
   "outputs": [],
   "source": [
    "# y (= USDC amount) as a function of the invariant of the base pool (= db),\n",
    "# equation form.\n",
    "y_db_eq = solve(eq_base_db_y, y)[1]"
   ]
  },
  {
   "cell_type": "code",
   "execution_count": 13,
   "id": "34717e89",
   "metadata": {},
   "outputs": [
    {
     "data": {
      "text/plain": [
       "(7.41256097647206e6, 7.41256097647200e6)"
      ]
     },
     "execution_count": 13,
     "metadata": {},
     "output_type": "execute_result"
    }
   ],
   "source": [
    "# Sanity check: These should match.\n",
    "y.subs(y_db_eq).subs(db==d_base_sln).n(), balances_base[1].n()"
   ]
  },
  {
   "cell_type": "markdown",
   "id": "3c4798c4",
   "metadata": {},
   "source": [
    "# TUSD - 3CRV (\"Meta Pool\") model"
   ]
  },
  {
   "cell_type": "markdown",
   "id": "7aa908da",
   "metadata": {},
   "source": [
    "On Polygon:\n",
    "- https://curve.fi/#/polygon/pools/factory-v2-152/deposit\n",
    "\n",
    "Raw (3CRV) balances must be pulled directly from the contract b/c the UI is completely transparent regarding the pool connection:\n",
    "https://polygonscan.com/address/0xadf577b69eeac9df325536cf1af106372f2da263\n",
    "\n",
    "On Ethereum, same pool:\n",
    "- https://curve.fi/#/ethereum/pools/tusd/swap\n",
    "- https://etherscan.io/address/0xecd5e75afb02efa118af914515d6521aabd189f1#readContract"
   ]
  },
  {
   "cell_type": "markdown",
   "id": "e02bdba2",
   "metadata": {},
   "source": [
    "*Note* that on Ethereum (but not on Polygon), TUSD-USDC can also be swapped using one of these two pools:\n",
    "- https://curve.fi/#/ethereum/pools/y/swap (DAI-USDC-USDT-TUSD) - \"Raw\" (non-meta) pool wrapping yearn tokens. Operates transparently on wrapped amounts.\n",
    "- https://curve.fi/#/ethereum/pools/factory-v2-144/swap (TUSD-FRAX-USDC) - Really a TUSD - (FRAX-USDC) metapool\n",
    "\n",
    "I didn't study these alternative pools. (we could do this some other time)\n",
    "\n",
    "The one I'm looking at here has by far the most TUSD in it.\n",
    "Note that trading volumes through these pools (except the y pool) are really low, too."
   ]
  },
  {
   "cell_type": "code",
   "execution_count": 14,
   "id": "65b40597",
   "metadata": {},
   "outputs": [],
   "source": [
    "init_stableswap(2)"
   ]
  },
  {
   "cell_type": "code",
   "execution_count": 15,
   "id": "9420b9a7",
   "metadata": {},
   "outputs": [
    {
     "data": {
      "text/plain": [
       "[4.57535151008611e6, 5.16950122412627e6]"
      ]
     },
     "execution_count": 15,
     "metadata": {},
     "output_type": "execute_result"
    }
   ],
   "source": [
    "asset_labels_meta = \"TUSD 3CRV\".split()\n",
    "\n",
    "if chain == 'polygon':\n",
    "    balances_meta = [\n",
    "        4575351510086114492497250 / 1e18,\n",
    "        5169501224126266578973344 / 1e18\n",
    "    ]\n",
    "\n",
    "    a_meta_val = 200\n",
    "    \n",
    "elif chain == 'ethereum':\n",
    "    # Data hasn't been updated, may be slightly outdated\n",
    "    balances_meta = [\n",
    "        14488396098356162063943586/1e18,\n",
    "        20906146815525945596347569/1e18\n",
    "    ]\n",
    "    \n",
    "    a_meta_val = 600\n",
    "\n",
    "else:\n",
    "    raise ValueError(\"unkonwn chain\")\n",
    "\n",
    "alln(balances_meta)  # unscaled balances"
   ]
  },
  {
   "cell_type": "code",
   "execution_count": 16,
   "id": "9adb3b10",
   "metadata": {},
   "outputs": [
    {
     "data": {
      "text/plain": [
       "[4.57535151008611e6, 5.50283044851407e6]"
      ]
     },
     "execution_count": 16,
     "metadata": {},
     "output_type": "execute_result"
    }
   ],
   "source": [
    "# The meta pool scales the LP shares by the virtual price (going from LP share space to D space)\n",
    "# and then runs everything in D space. So we do the same here.\n",
    "# Note that we don't need to scale the first component; this is only for decimal adjustment, which\n",
    "# we don't need to handle.\n",
    "# In the following, the t1 variable is always in D space (not LP share space).\n",
    "from operator import mul\n",
    "balances_meta_scaled = list(map(mul, balances_meta, [1, virtual_price_base]))\n",
    "alln(balances_meta_scaled)"
   ]
  },
  {
   "cell_type": "code",
   "execution_count": 17,
   "id": "eab9b8d1",
   "metadata": {},
   "outputs": [
    {
     "data": {
      "text/plain": [
       "0.176910150616999"
      ]
     },
     "execution_count": 17,
     "metadata": {},
     "output_type": "execute_result"
    }
   ],
   "source": [
    "# Share of total 3crv outstanding that are held by the meta pool\n",
    "share_base_meta = (balances_meta[1] / total_supply_base)\n",
    "share_base_meta.n()"
   ]
  },
  {
   "cell_type": "code",
   "execution_count": 18,
   "id": "11c2cd80",
   "metadata": {},
   "outputs": [
    {
     "data": {
      "text/plain": [
       "[1.10730468100030e6, 1.31135727880535e6, 3.08420701295975e6]"
      ]
     },
     "execution_count": 18,
     "metadata": {},
     "output_type": "execute_result"
    }
   ],
   "source": [
    "# Linearity. These are the asset amounts shown in the transparent UI\n",
    "# for the other three assets.\n",
    "# Note that we can trade the TUSD in the pool against *more* than\n",
    "# `corresp_balances_base[1]` USDC b/c we redeem the LP shares for *only* USDC,\n",
    "# not a bundle of the three assets, for the trade we care about here.\n",
    "corresp_balances_base = [t * share_base_meta for t in balances_base]\n",
    "alln(corresp_balances_base)"
   ]
  },
  {
   "cell_type": "code",
   "execution_count": 19,
   "id": "b82d2210",
   "metadata": {},
   "outputs": [
    {
     "data": {
      "text/plain": [
       "1.00780746260390e7"
      ]
     },
     "execution_count": 19,
     "metadata": {},
     "output_type": "execute_result"
    }
   ],
   "source": [
    "d_meta_sln = RealNumber(stableswap_get_d(balances_meta_scaled, a_meta_val))\n",
    "d_meta_sln.n()"
   ]
  },
  {
   "cell_type": "code",
   "execution_count": 20,
   "id": "0cf0e4ab",
   "metadata": {},
   "outputs": [],
   "source": [
    "# We also build the \"marginal\" curve on t[0], t[1] for the meta pool.\n",
    "# Let's also rename t[0] to x (= TUSD)\n",
    "var('x')\n",
    "eq_meta = eq_stableswap.subs(\n",
    "    d==d_meta_sln,\n",
    "    a==a_meta_val,\n",
    "    t[0]==x\n",
    ")"
   ]
  },
  {
   "cell_type": "code",
   "execution_count": 21,
   "id": "e0947eb1",
   "metadata": {},
   "outputs": [],
   "source": [
    "# t1 as a function of x, equation form\n",
    "t1_x_eq = solve(eq_meta, t[1])[1]"
   ]
  },
  {
   "cell_type": "code",
   "execution_count": 22,
   "id": "b537c403",
   "metadata": {},
   "outputs": [
    {
     "data": {
      "text/plain": [
       "(5.50283044851408e6, 5.50283044851407e6)"
      ]
     },
     "execution_count": 22,
     "metadata": {},
     "output_type": "execute_result"
    }
   ],
   "source": [
    "# Sanity check: These should match.\n",
    "t[1].subs(t1_x_eq).subs(x==balances_meta_scaled[0]).n(), balances_meta_scaled[1].n()"
   ]
  },
  {
   "cell_type": "markdown",
   "id": "ff9fcef8",
   "metadata": {},
   "source": [
    "Let's now connect the two pools. Our invariant is:\n",
    "\n",
    "1. The StableSwap invariant in the meta pool must hold (d = d_meta_sln being constant)\n",
    "\n",
    "2. The StableSwap invariant in the base pool must hold (d = db being variable)\n",
    "\n",
    "3. t1 1:1 maps to db in the base pool by burning/minting LP shares.\n",
    "\n",
    "4. For the invariant curve, we reduce y by the maximum amount, y0, that can be redeemed by the pool. This doesn't change trades (b/c it's a constant shift) and ensures that the curve converges to y → 0 for x → ∞."
   ]
  },
  {
   "cell_type": "code",
   "execution_count": 23,
   "id": "131da05b",
   "metadata": {},
   "outputs": [],
   "source": [
    "# Calculate db from t1. Recall that the meta pool only holds *some* of the LP tokens of the\n",
    "# base pool. We convert the other LP shares to D space using the virtual price.\n",
    "db_t1 = (1 - share_base_meta) * total_supply_base * virtual_price_base + t[1]"
   ]
  },
  {
   "cell_type": "code",
   "execution_count": 24,
   "id": "804fabc5",
   "metadata": {},
   "outputs": [
    {
     "data": {
      "text/plain": [
       "(3.11052273107122e7, 3.11052273107122e7)"
      ]
     },
     "execution_count": 24,
     "metadata": {},
     "output_type": "execute_result"
    }
   ],
   "source": [
    "# Sanity check. These should match, respectively\n",
    "alln(db_t1.subs(t[1]==balances_meta_scaled[1]), d_base_sln)"
   ]
  },
  {
   "cell_type": "markdown",
   "id": "a8f7cd3e",
   "metadata": {},
   "source": [
    "# Connecting the two pools"
   ]
  },
  {
   "cell_type": "code",
   "execution_count": 25,
   "id": "5092f5a6",
   "metadata": {},
   "outputs": [],
   "source": [
    "# Now we put everything together by assuming that db == what we calculated\n",
    "# above, and then calculate y from that.\n",
    "y_db = y.subs(y_db_eq)\n",
    "y_t1 = y_db.subs(db==db_t1)"
   ]
  },
  {
   "cell_type": "code",
   "execution_count": 26,
   "id": "f6f1c0b4",
   "metadata": {},
   "outputs": [
    {
     "data": {
      "text/plain": [
       "1.91045223839366e6"
      ]
     },
     "execution_count": 26,
     "metadata": {},
     "output_type": "execute_result"
    }
   ],
   "source": [
    "y0 = y_t1.subs(t1==0)\n",
    "y0.n()"
   ]
  },
  {
   "cell_type": "code",
   "execution_count": 27,
   "id": "fe7dc957",
   "metadata": {},
   "outputs": [],
   "source": [
    "# Here goes the constant shift.\n",
    "y_corresp_t1 = y_t1 - y0\n",
    "y_corresp_x = y_corresp_t1.subs(t1_x_eq)\n",
    "y_x = y_corresp_x  # shorthand"
   ]
  },
  {
   "cell_type": "code",
   "execution_count": 28,
   "id": "76a1c516",
   "metadata": {},
   "outputs": [
    {
     "data": {
      "text/plain": [
       "(5.50210873807840e6, 5.50210873807834e6)"
      ]
     },
     "execution_count": 28,
     "metadata": {},
     "output_type": "execute_result"
    }
   ],
   "source": [
    "# Sanity check, should match\n",
    "alln(y_x.subs(x==balances_meta_scaled[0]), balances_base[1]-y0)"
   ]
  },
  {
   "cell_type": "markdown",
   "id": "d5c19665",
   "metadata": {},
   "source": [
    "For clarification, there are different ways of thinking about \"pool size\" on the 3CRV asset in the meta pool:\n",
    "\n",
    "- `corresp_balances_base` = Assets we could get if we redeemed all the LP shares in the pool *proportionally for a mix* of the three base assets. We get *three* assets then!\n",
    "\n",
    "- `balances_base[1] - y0` = USDC we could get if we redeemed all the LP shares in the pool *only for USDC*. **This is what we care about** for the *marginal* TUSD-USDC trading curve. This is close to, but not equal to `sum(corresp_balances_base)` b/c of (1) price impact while redeeming one-sided and (2) prices being not exactly 1 between the assets.\n",
    "\n",
    "- `y0` is what's left in the 3pool if we did redeem all our LP shares for USDC only. This can be only relatively little, even if our own share of LP shares is somewhat small, because we use them (corresponding to a DAI-USDC-USDT mix) to only redeem for USDC. Note that `y0/balances_base[1]` also depends on the share of USDC compared to the other assets in the base pool (our LP shares being relatively more valuable when there's less USDC in the pool, which happens to be the case here; there's a price effect that goes in the other direction, but it's weak in the region we currently are).\n",
    "\n",
    "For comparison:"
   ]
  },
  {
   "cell_type": "code",
   "execution_count": 29,
   "id": "0db674fd",
   "metadata": {},
   "outputs": [
    {
     "data": {
      "text/plain": [
       "([6.25913593504057e6, 7.41256097647200e6, 1.74337481608780e7],\n",
       " [1.10730468100030e6, 1.31135727880535e6, 3.08420701295975e6],\n",
       " 5.50286897276540e6,\n",
       " 5.50210873807834e6)"
      ]
     },
     "execution_count": 29,
     "metadata": {},
     "output_type": "execute_result"
    }
   ],
   "source": [
    "alln(balances_base, corresp_balances_base, sum(corresp_balances_base), balances_base[1]-y0)"
   ]
  },
  {
   "cell_type": "code",
   "execution_count": 30,
   "id": "d3407f18",
   "metadata": {},
   "outputs": [
    {
     "data": {
      "text/plain": [
       "0.742268259990364"
      ]
     },
     "execution_count": 30,
     "metadata": {},
     "output_type": "execute_result"
    }
   ],
   "source": [
    "# Share of the USDC in the 3pool that can be redeemed by us at most\n",
    "alln((balances_base[1]-y0)/balances_base[1])"
   ]
  },
  {
   "cell_type": "markdown",
   "id": "b312ea6a",
   "metadata": {},
   "source": [
    "Since we have convinced ourselves that our y0 offset does the right thing, we can introduce the following shorthand for the effective vector of balances of the marginal TUSD-USDC curve:"
   ]
  },
  {
   "cell_type": "code",
   "execution_count": 31,
   "id": "524ec2c7",
   "metadata": {},
   "outputs": [],
   "source": [
    "# Shorthand\n",
    "balances_marginal = [balances_meta[0], balances_base[1]-y0]"
   ]
  },
  {
   "cell_type": "markdown",
   "id": "dbee5a57",
   "metadata": {},
   "source": [
    "With the trading curve `y_x` constructed (see below for a plot btw), we can now easily get an analytical expression for the price of x denoted in units of y:"
   ]
  },
  {
   "cell_type": "code",
   "execution_count": 32,
   "id": "2817d426",
   "metadata": {},
   "outputs": [],
   "source": [
    "px_x = -y_x.diff()"
   ]
  },
  {
   "cell_type": "code",
   "execution_count": 33,
   "id": "4fc52308",
   "metadata": {},
   "outputs": [
    {
     "data": {
      "text/plain": [
       "(1.00044334866107, 1.00044340712027)"
      ]
     },
     "execution_count": 33,
     "metadata": {},
     "output_type": "execute_result"
    }
   ],
   "source": [
    "# Sanity check: These should approximately match and yield a reasonable price, and it should be\n",
    "# the price quoted by the pool (minus fees and implementation details)\n",
    "pxy_now_approx = alln((balances_base[1]-y0)-y_x.subs(x==balances_meta[0]+1))\n",
    "pxy_now_model = px_x.subs(x==balances_meta[0]).n()\n",
    "alln(pxy_now_approx, pxy_now_model)"
   ]
  },
  {
   "cell_type": "markdown",
   "id": "4fb196f8",
   "metadata": {},
   "source": [
    "# Capital Efficiency Computation"
   ]
  },
  {
   "cell_type": "code",
   "execution_count": 34,
   "id": "fb1e6306",
   "metadata": {},
   "outputs": [],
   "source": [
    "px_expd_range = (0.98, 1/0.98)"
   ]
  },
  {
   "cell_type": "code",
   "execution_count": 35,
   "id": "7ad158e5",
   "metadata": {},
   "outputs": [],
   "source": [
    "# Compute reserve values at the upper and lower price point\n",
    "x_px_low = find_root(px_x==px_expd_range[0], 0, 1e8)\n",
    "y_px_low = y_x.subs(x==x_px_low)\n",
    "x_px_high = find_root(px_x==px_expd_range[1], 0, 1e8)\n",
    "y_px_high = y_x.subs(x==x_px_high)"
   ]
  },
  {
   "cell_type": "code",
   "execution_count": 36,
   "id": "21d11892",
   "metadata": {},
   "outputs": [
    {
     "data": {
      "text/plain": [
       "[8.85684413773738e6 1.23741023337872e6]\n",
       "[4.57535151008611e6 5.50210873807834e6]\n",
       "[1.23195366961739e6 8.86206546651362e6]"
      ]
     },
     "execution_count": 36,
     "metadata": {},
     "output_type": "execute_result"
    }
   ],
   "source": [
    "# For information\n",
    "matrix([\n",
    "    [x_px_low, y_px_low],\n",
    "    balances_marginal,\n",
    "    [x_px_high, y_px_high]\n",
    "]).apply_map(lambda x: x.n())"
   ]
  },
  {
   "cell_type": "markdown",
   "id": "22a87b7b",
   "metadata": {},
   "source": [
    "**Capital efficiency result:**"
   ]
  },
  {
   "cell_type": "code",
   "execution_count": 37,
   "id": "60d90180",
   "metadata": {},
   "outputs": [],
   "source": [
    "px_now = pxy_now_model"
   ]
  },
  {
   "cell_type": "markdown",
   "id": "0f92f9a5",
   "metadata": {},
   "source": [
    "The following shows the amount of assets inefficiently allocated in the pool. These are the assets that are currently in the pool and would never leave the pool if the price stays within our expected price range. Higher is worse. We express these in percent of current balances."
   ]
  },
  {
   "cell_type": "code",
   "execution_count": 38,
   "id": "d014af5a",
   "metadata": {},
   "outputs": [
    {
     "name": "stdout",
     "output_type": "stream",
     "text": [
      "% TUSD reserved for prices > 1.02 = 26.93 %\n",
      "% USDC reserved for prices < 0.98 = 22.49 %\n"
     ]
    }
   ],
   "source": [
    "print(f\"% TUSD reserved for prices > {px_expd_range[1]:.2f} = {(x_px_high/balances_marginal[0]*100):.2f} %\")\n",
    "print(f\"% USDC reserved for prices < {px_expd_range[0]:.2f} = {(y_px_low/balances_marginal[1]*100).n():.2f} %\")"
   ]
  },
  {
   "cell_type": "markdown",
   "id": "e6380ede",
   "metadata": {},
   "source": [
    "Interpretation i.t.o. portfolio value (at *current* prices):"
   ]
  },
  {
   "cell_type": "code",
   "execution_count": 39,
   "id": "ec697dd6",
   "metadata": {},
   "outputs": [
    {
     "name": "stdout",
     "output_type": "stream",
     "text": [
      "Portfolio value reserved for prices outside [0.98, 1.02]: 2,469,910 (USDC) of 10,079,489 (USDC) = 24.50%\n"
     ]
    }
   ],
   "source": [
    "# Numeraire = asset y = usdc\n",
    "pfvalue_now = balances_marginal[0] * px_now + balances_marginal[1]\n",
    "pfvalue_inefficient = x_px_high * px_now + y_px_low\n",
    "pfvalue_inefficient_rel = pfvalue_inefficient / pfvalue_now\n",
    "print(f\"Portfolio value reserved for prices outside [{px_expd_range[0]:.2f}, {px_expd_range[1]:.2f}]: \"+\n",
    "      f\"{pfvalue_inefficient.n():,.0f} (USDC) of {pfvalue_now.n():,.0f} (USDC) = {pfvalue_inefficient_rel.n()*100:.2f}%\"\n",
    "     )"
   ]
  },
  {
   "cell_type": "markdown",
   "id": "1f7bb045",
   "metadata": {},
   "source": [
    "This is quite a lot. See the following section for some intuition."
   ]
  },
  {
   "cell_type": "markdown",
   "id": "eb6cc5ce",
   "metadata": {},
   "source": [
    "# Plots / Intuition"
   ]
  },
  {
   "cell_type": "markdown",
   "id": "785baf59",
   "metadata": {},
   "source": [
    "We can plot the trading curve. Grid lines mark the points at the two ends of the price range.\n",
    "\n",
    "Note that the following clearly *looks like* a StableSwap curve, but I'm not sure if it really is (more math needed). The left end of the curve is \"shorter\", but this could well be due to the way it's plotted (I'm plotting this as a function of x, so the two dimensions are not treated equally by the plotting algorithm)."
   ]
  },
  {
   "cell_type": "code",
   "execution_count": 40,
   "id": "216ec126",
   "metadata": {
    "scrolled": false
   },
   "outputs": [
    {
     "data": {
      "image/png": "[encoded data removed]",
      "text/plain": [
       "Graphics object consisting of 2 graphics primitives"
      ]
     },
     "metadata": {},
     "output_type": "display_data"
    }
   ],
   "source": [
    "p1 = plot(y_x, x, 0, 1.2e7, aspect_ratio=1, axes=False, frame=True, ymin=0,\n",
    "         gridlines=[[0, x_px_low, x_px_high],[0, y_px_low, y_px_high]],\n",
    "         plot_points=500, adaptive_recursion=50,\n",
    "         axes_labels=[\"x\", \"y\"]\n",
    "        )\n",
    "# p2 = point((balances_meta_scaled[0], corresp_balances_base[1]), color=\"red\", size=25)\n",
    "p3 = point(balances_marginal, color=\"red\", size=30)\n",
    "show(p1 + p3)"
   ]
  },
  {
   "cell_type": "markdown",
   "id": "5fd0ca83",
   "metadata": {},
   "source": [
    "It sure *seems* hard to believe that the capital inefficiency is so much. The curve looks really flat after all. Overall, this just seems to be because small price changes are very hard to visually see in the plot of the x-y curve. We instead plot the price as a function of x."
   ]
  },
  {
   "cell_type": "code",
   "execution_count": 41,
   "id": "0472ed4f",
   "metadata": {},
   "outputs": [
    {
     "data": {
      "image/png": "[encoded data removed]",
      "text/plain": [
       "Graphics object consisting of 2 graphics primitives"
      ]
     },
     "metadata": {},
     "output_type": "display_data"
    }
   ],
   "source": [
    "g = Graphics()\n",
    "g += plot(px_x, x, 0, 1.2e7,\n",
    "    ymin=px_expd_range[0]/1.1,\n",
    "    ymax=px_expd_range[1]*1.1,\n",
    "    gridlines=[[k * 1e7 for k in srange(0, 1.2, 0.1, include_endpoint=True)], [0,1]+list(px_expd_range)],\n",
    "    axes_labels=[\"x\", \"price x/y\"],\n",
    "    axes=False, frame=True,\n",
    "    plot_points=1000,\n",
    "    adaptive_recursion=100,\n",
    ")\n",
    "g += point((balances_marginal[0], px_now), color=\"red\", size=30)\n",
    "show(g)"
   ]
  },
  {
   "cell_type": "markdown",
   "id": "ee11a24d",
   "metadata": {},
   "source": [
    "^^ We can visually see that the price leaves the relevant price range quite soon. We can see directly one half of the capital inefficiency, namely for asset x: at x≈0.125e7, the price is so high that it leaves the reasonable range. So these assets are never sold from the pool. As the current x balance is ≈0.457e7, this is on the order of 25% of current x assets that won't be used.\n",
    "\n",
    "For the other half (asset y for the low price), we *can* see that this is reached relatively soon wrt. x, but to really be able to judge the extent of this effect we'd have to plot asset y with it. Or maybe do another y-px plot in addition to this x-px one."
   ]
  }
 ],
 "metadata": {
  "kernelspec": {
   "display_name": "SageMath 9.7",
   "language": "sage",
   "name": "sagemath"
  },
  "language_info": {
   "codemirror_mode": {
    "name": "ipython",
    "version": 3
   },
   "file_extension": ".py",
   "mimetype": "text/x-python",
   "name": "python",
   "nbconvert_exporter": "python",
   "pygments_lexer": "ipython3",
   "version": "3.10.6"
  }
 },
 "nbformat": 4,
 "nbformat_minor": 5
}
